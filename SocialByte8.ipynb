{
 "cells": [
  {
   "cell_type": "code",
   "execution_count": null,
   "id": "ae87d5af",
   "metadata": {},
   "outputs": [],
   "source": [
    "SELECT\n",
    "    C.CustomerName,\n",
    "    COUNT(O.OrderID) AS OrderCount\n",
    "FROM\n",
    "    Customers C\n",
    "JOIN\n",
    "    Orders O ON C.CustomerID = O.CustomerID\n",
    "GROUP BY\n",
    "    C.CustomerName\n",
    "ORDER BY\n",
    "    OrderCount DESC,\n",
    "    C.CustomerName ASC\n",
    "LIMIT 5;\n"
   ]
  }
 ],
 "metadata": {
  "kernelspec": {
   "display_name": "Python 3 (ipykernel)",
   "language": "python",
   "name": "python3"
  },
  "language_info": {
   "codemirror_mode": {
    "name": "ipython",
    "version": 3
   },
   "file_extension": ".py",
   "mimetype": "text/x-python",
   "name": "python",
   "nbconvert_exporter": "python",
   "pygments_lexer": "ipython3",
   "version": "3.10.9"
  }
 },
 "nbformat": 4,
 "nbformat_minor": 5
}
